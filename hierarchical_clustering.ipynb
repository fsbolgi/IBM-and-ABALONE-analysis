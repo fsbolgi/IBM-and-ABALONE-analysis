{
 "cells": [
  {
   "cell_type": "code",
   "execution_count": 26,
   "metadata": {},
   "outputs": [
    {
     "name": "stdout",
     "output_type": "stream",
     "text": [
      "Populating the interactive namespace from numpy and matplotlib\n"
     ]
    },
    {
     "name": "stderr",
     "output_type": "stream",
     "text": [
      "C:\\Users\\Francesca\\Anaconda2\\lib\\site-packages\\IPython\\core\\magics\\pylab.py:161: UserWarning: pylab import has clobbered these variables: ['average']\n",
      "`%matplotlib` prevents importing * from pylab and numpy\n",
      "  \"\\n`%matplotlib` prevents importing * from pylab and numpy\"\n"
     ]
    },
    {
     "data": {
      "text/html": [
       "<style>.container { width:98% !important; }</style>"
      ],
      "text/plain": [
       "<IPython.core.display.HTML object>"
      ]
     },
     "metadata": {},
     "output_type": "display_data"
    }
   ],
   "source": [
    "import pandas as pd\n",
    "import matplotlib.pyplot as plt\n",
    "\n",
    "from scipy.cluster.hierarchy import dendrogram, linkage\n",
    "from scipy.cluster import hierarchy\n",
    "from IPython.core.display import display, HTML\n",
    "\n",
    "%pylab inline\n",
    "\n",
    "plt.rcParams[\"font.family\"] = 'serif'\n",
    "plt.rcParams[\"font.size\"] = '14'\n",
    "\n",
    "display(HTML(\"<style>.container { width:98% !important; }</style>\"))"
   ]
  },
  {
   "cell_type": "code",
   "execution_count": 3,
   "metadata": {
    "collapsed": true
   },
   "outputs": [],
   "source": [
    "series = pd.Series.from_csv('ibm_daily_1962-2018.csv', sep='\\t',header=0)"
   ]
  },
  {
   "cell_type": "code",
   "execution_count": 4,
   "metadata": {
    "collapsed": true
   },
   "outputs": [],
   "source": [
    "#divisione della serie in anni\n",
    "#OUTPUT: mod_series (record divisi in anni), years_list (lista di anni)\n",
    "def SeriesToYears(series):\n",
    "    years_groups = series.groupby(pd.Grouper(freq='A'));\n",
    "    \n",
    "    mod_series = []\n",
    "    years_list = []\n",
    "    for name, group in years_groups:\n",
    "        year_values = pd.Series((group.values - group.values.mean())/group.values.std()).rolling(window=4, min_periods=1).mean()\n",
    "        year_values = year_values.dropna()\n",
    "        year_values = year_values.reset_index(drop=True)\n",
    "        mod_series.append(year_values)\n",
    "        years_list.append(name.year)\n",
    "    \n",
    "    return mod_series, years_list"
   ]
  },
  {
   "cell_type": "code",
   "execution_count": 5,
   "metadata": {},
   "outputs": [
    {
     "data": {
      "text/plain": [
       "0     -2.140522\n",
       "1     -2.222870\n",
       "2     -2.110022\n",
       "3     -2.053598\n",
       "4     -1.989549\n",
       "5     -1.824853\n",
       "6     -1.753942\n",
       "7     -1.667020\n",
       "8     -1.568661\n",
       "9     -1.470300\n",
       "10    -1.381089\n",
       "11    -1.355928\n",
       "12    -1.301029\n",
       "13    -1.317041\n",
       "14    -1.321616\n",
       "15    -1.271292\n",
       "16    -1.266717\n",
       "17    -1.234692\n",
       "18    -1.182081\n",
       "19    -1.092870\n",
       "20    -1.024248\n",
       "21    -0.992224\n",
       "22    -0.955625\n",
       "23    -0.962487\n",
       "24    -0.976212\n",
       "25    -0.962487\n",
       "26    -1.005949\n",
       "27    -1.049410\n",
       "28    -1.051697\n",
       "29    -1.081434\n",
       "         ...   \n",
       "221    1.446195\n",
       "222    1.418746\n",
       "223    1.350123\n",
       "224    1.192289\n",
       "225    1.055043\n",
       "226    0.867472\n",
       "227    0.727937\n",
       "228    0.718787\n",
       "229    0.773685\n",
       "230    0.993280\n",
       "231    1.238037\n",
       "232    1.402734\n",
       "233    1.462208\n",
       "234    1.457633\n",
       "235    1.389010\n",
       "236    1.331823\n",
       "237    1.299798\n",
       "238    1.231175\n",
       "239    1.146540\n",
       "240    1.077916\n",
       "241    1.045892\n",
       "242    1.077917\n",
       "243    1.153403\n",
       "244    1.222026\n",
       "245    1.276925\n",
       "246    1.276925\n",
       "247    1.299799\n",
       "248    1.395872\n",
       "249    1.505669\n",
       "250    1.661215\n",
       "Length: 251, dtype: float64"
      ]
     },
     "execution_count": 5,
     "metadata": {},
     "output_type": "execute_result"
    }
   ],
   "source": [
    "mod_series, years_list = SeriesToYears(series)\n",
    "mod_series[1]"
   ]
  },
  {
   "cell_type": "code",
   "execution_count": 6,
   "metadata": {
    "collapsed": true
   },
   "outputs": [],
   "source": [
    "def dtw(x, y, dist):\n",
    "    \"\"\"\n",
    "    Computes Dynamic Time Warping (DTW) of two sequences.\n",
    "\n",
    "    :param array x: N1*M array\n",
    "    :param array y: N2*M array\n",
    "    :param func dist: distance used as cost measure\n",
    "\n",
    "    Returns the minimum distance, the cost matrix, the accumulated cost matrix, and the wrap path.\n",
    "    \"\"\"\n",
    "    assert len(x)\n",
    "    assert len(y)\n",
    "    r, c = len(x), len(y)\n",
    "    \n",
    "    # D0 = D1 = matrix of point-to-point costs\n",
    "    D0 = zeros((r + 1, c + 1))\n",
    "    D0[0, 1:] = inf\n",
    "    D0[1:, 0] = inf\n",
    "    D1 = D0[1:, 1:] # view (hide first column and first row)\n",
    "    \n",
    "    # Fill the point-to-point costs matrix\n",
    "    for i in range(r):\n",
    "        for j in range(c):\n",
    "            D1[i, j] = dist(x[i], y[j])\n",
    "            \n",
    "    # C = matrix of optimal paths costs\n",
    "    C = D1.copy()\n",
    "    for i in range(r):\n",
    "        for j in range(c):\n",
    "            D1[i, j] += min(D0[i, j], D0[i, j+1], D0[i+1, j])\n",
    "    \n",
    "    # Infer the path from matrix C\n",
    "    if len(x)==1:\n",
    "        path = zeros(len(y)), range(len(y))  # special case 1\n",
    "    elif len(y) == 1:\n",
    "        path = range(len(x)), zeros(len(x))  # special case 2\n",
    "    else:\n",
    "        path = _traceback(D0)  # general case\n",
    "        \n",
    "    return D1[-1, -1], C, D1, path\n",
    "\n",
    "# Function for inferring the optima path (general case)\n",
    "# Starts from last cell and goes backward...\n",
    "def _traceback(D):\n",
    "    i, j = array(D.shape) - 2\n",
    "    p, q = [i], [j]\n",
    "    while ((i > 0) or (j > 0)):\n",
    "        tb = argmin((D[i, j], D[i, j+1], D[i+1, j]))\n",
    "        if (tb == 0):\n",
    "            i -= 1\n",
    "            j -= 1\n",
    "        elif (tb == 1):\n",
    "            i -= 1\n",
    "        else: # (tb == 2):\n",
    "            j -= 1\n",
    "        p.insert(0, i)\n",
    "        q.insert(0, j)\n",
    "    return array(p), array(q)\n",
    "\n",
    "\n",
    "def distance(x,y):\n",
    "    return abs(x-y)"
   ]
  },
  {
   "cell_type": "code",
   "execution_count": 7,
   "metadata": {},
   "outputs": [
    {
     "name": "stdout",
     "output_type": "stream",
     "text": [
      "Wall time: 40min 2s\n"
     ]
    }
   ],
   "source": [
    "%%time\n",
    "\n",
    "# CAUTION !!! CAN BE VERY SLOW !!!\n",
    "\n",
    "# Compute upper half of matrix\n",
    "dd1 = [ [ (dtw(mod_series[x],mod_series[y],distance)[0] \\\n",
    "           if y > x else -1)  \\\n",
    "         for y in range(len(years_list)) ] \n",
    "       for x in range(len(years_list)) ]\n",
    "# Copy values also to the lower half, exployting symmetry of the distance function\n",
    "dd2 = [ [ (dd1[x][y] if y > x else dd1[y][x])  for y in range(len(years_list)) ] for x in range(len(years_list)) ]\n",
    "# Finally, the diagonal\n",
    "for i in range(len(years_list)):\n",
    "    dd2[i][i] = 0.0"
   ]
  },
  {
   "cell_type": "code",
   "execution_count": 8,
   "metadata": {},
   "outputs": [
    {
     "data": {
      "text/plain": [
       "<matplotlib.image.AxesImage at 0xbe910f0>"
      ]
     },
     "execution_count": 8,
     "metadata": {},
     "output_type": "execute_result"
    },
    {
     "data": {
      "image/png": "[encoded data removed]",
      "text/plain": [
       "<matplotlib.figure.Figure at 0xae3cbe0>"
      ]
     },
     "metadata": {},
     "output_type": "display_data"
    }
   ],
   "source": [
    "matshow(dd2, interpolation=None, aspect='auto')"
   ]
  },
  {
   "cell_type": "markdown",
   "metadata": {},
   "source": [
    "# Calcolo Hierarchical Clustering"
   ]
  },
  {
   "cell_type": "markdown",
   "metadata": {},
   "source": [
    "Calcolo con DTW:"
   ]
  },
  {
   "cell_type": "code",
   "execution_count": 108,
   "metadata": {},
   "outputs": [
    {
     "name": "stderr",
     "output_type": "stream",
     "text": [
      "C:\\Users\\Francesca\\Anaconda2\\lib\\site-packages\\ipykernel_launcher.py:1: ClusterWarning: scipy.cluster: The symmetric non-negative hollow observation matrix looks suspiciously like an uncondensed distance matrix\n",
      "  \"\"\"Entry point for launching an IPython kernel.\n",
      "C:\\Users\\Francesca\\Anaconda2\\lib\\site-packages\\ipykernel_launcher.py:2: ClusterWarning: scipy.cluster: The symmetric non-negative hollow observation matrix looks suspiciously like an uncondensed distance matrix\n",
      "  \n",
      "C:\\Users\\Francesca\\Anaconda2\\lib\\site-packages\\ipykernel_launcher.py:3: ClusterWarning: scipy.cluster: The symmetric non-negative hollow observation matrix looks suspiciously like an uncondensed distance matrix\n",
      "  This is separate from the ipykernel package so we can avoid doing imports until\n"
     ]
    }
   ],
   "source": [
    "single_linkage = linkage(dd2, method='single')\n",
    "complete_linkage = linkage(dd2, method='complete')\n",
    "average = linkage(dd2, method='average')"
   ]
  },
  {
   "cell_type": "code",
   "execution_count": 109,
   "metadata": {
    "collapsed": true
   },
   "outputs": [],
   "source": [
    "cmap = cm.gist_rainbow(np.linspace(0.1, 1, 7))\n",
    "hierarchy.set_link_color_palette([mpl.colors.rgb2hex(rgb[:3]) for rgb in cmap])\n",
    "matplotlib.rcParams['lines.linewidth'] = 2"
   ]
  },
  {
   "cell_type": "code",
   "execution_count": 110,
   "metadata": {
    "collapsed": true
   },
   "outputs": [],
   "source": [
    "def hier_lab(i): #funzione per la stampa dei nomi degli anni\n",
    "    return years_list[i]"
   ]
  },
  {
   "cell_type": "markdown",
   "metadata": {},
   "source": [
    "Visualizzazione Risultati:"
   ]
  },
  {
   "cell_type": "code",
   "execution_count": 111,
   "metadata": {},
   "outputs": [
    {
     "data": {
      "image/png": "[encoded data removed]",
      "text/plain": [
       "<matplotlib.figure.Figure at 0x165f7860>"
      ]
     },
     "metadata": {},
     "output_type": "display_data"
    }
   ],
   "source": [
    "fig = plt.figure(figsize=(15, 5))\n",
    "dn = dendrogram(single_linkage, color_threshold = 263, above_threshold_color  = '#000000', leaf_label_func = hier_lab)\n",
    "plt.axhline(y=263, c='r')  \n",
    "xticks(fontsize=13)\n",
    "\n",
    "plt.savefig('Images/TimeSeries/HierarcSingle.png', format='png', bbox_inches='tight')"
   ]
  },
  {
   "cell_type": "code",
   "execution_count": 112,
   "metadata": {},
   "outputs": [
    {
     "data": {
      "image/png": "[encoded data removed]",
      "text/plain": [
       "<matplotlib.figure.Figure at 0x16757f28>"
      ]
     },
     "metadata": {},
     "output_type": "display_data"
    }
   ],
   "source": [
    "fig = plt.figure(figsize=(15, 5))\n",
    "dn = dendrogram(complete_linkage, color_threshold = 1300, above_threshold_color  = '#000000', leaf_label_func = hier_lab)\n",
    "plt.axhline(y=1300, c='r')\n",
    "xticks(fontsize=13)\n",
    "\n",
    "plt.savefig('Images/TimeSeries/HierarcComplete.png', format='png', bbox_inches='tight')"
   ]
  },
  {
   "cell_type": "code",
   "execution_count": 113,
   "metadata": {},
   "outputs": [
    {
     "data": {
      "image/png": "[encoded data removed]",
      "text/plain": [
       "<matplotlib.figure.Figure at 0x161fadd8>"
      ]
     },
     "metadata": {},
     "output_type": "display_data"
    }
   ],
   "source": [
    "fig = plt.figure(figsize=(15, 5))\n",
    "dn = dendrogram(average, color_threshold = 900, above_threshold_color  = '#000000', leaf_label_func = hier_lab)\n",
    "plt.axhline(y=900, c='r')\n",
    "xticks(fontsize=13)\n",
    "\n",
    "plt.savefig('Images/TimeSeries/HierarcAVG.png', format='png', bbox_inches='tight')"
   ]
  },
  {
   "cell_type": "code",
   "execution_count": 42,
   "metadata": {},
   "outputs": [
    {
     "name": "stdout",
     "output_type": "stream",
     "text": [
      "[[  1.10000000e+01   1.70000000e+01   9.04929535e+01   2.00000000e+00]\n",
      " [  6.00000000e+00   3.70000000e+01   1.07659293e+02   2.00000000e+00]\n",
      " [  1.00000000e+00   4.90000000e+01   1.11726654e+02   2.00000000e+00]\n",
      " [  1.20000000e+01   2.40000000e+01   1.21329109e+02   2.00000000e+00]\n",
      " [  7.00000000e+00   3.20000000e+01   1.30132950e+02   2.00000000e+00]\n",
      " [  2.00000000e+01   3.60000000e+01   1.33611782e+02   2.00000000e+00]\n",
      " [  5.00000000e+00   4.70000000e+01   1.33699305e+02   2.00000000e+00]\n",
      " [  8.00000000e+00   4.30000000e+01   1.44335697e+02   2.00000000e+00]\n",
      " [  2.10000000e+01   5.40000000e+01   1.55922147e+02   2.00000000e+00]\n",
      " [  5.10000000e+01   5.30000000e+01   1.57944621e+02   2.00000000e+00]\n",
      " [  4.60000000e+01   5.20000000e+01   1.70989452e+02   2.00000000e+00]\n",
      " [  5.70000000e+01   6.00000000e+01   1.76006122e+02   4.00000000e+00]\n",
      " [  1.30000000e+01   3.90000000e+01   1.77002254e+02   2.00000000e+00]\n",
      " [  0.00000000e+00   1.90000000e+01   1.82802753e+02   2.00000000e+00]\n",
      " [  3.00000000e+00   5.90000000e+01   1.90547934e+02   3.00000000e+00]\n",
      " [  3.10000000e+01   4.20000000e+01   2.00092844e+02   2.00000000e+00]\n",
      " [  3.50000000e+01   6.10000000e+01   2.01856767e+02   3.00000000e+00]\n",
      " [  1.40000000e+01   4.50000000e+01   2.02744749e+02   2.00000000e+00]\n",
      " [  4.00000000e+01   5.50000000e+01   2.05011296e+02   2.00000000e+00]\n",
      " [  1.80000000e+01   2.20000000e+01   2.07357272e+02   2.00000000e+00]\n",
      " [  1.00000000e+01   2.80000000e+01   2.08929412e+02   2.00000000e+00]\n",
      " [  2.90000000e+01   6.60000000e+01   2.31191643e+02   3.00000000e+00]\n",
      " [  3.40000000e+01   4.80000000e+01   2.34863000e+02   2.00000000e+00]\n",
      " [  5.80000000e+01   7.70000000e+01   2.35995499e+02   4.00000000e+00]\n",
      " [  2.00000000e+00   2.50000000e+01   2.42555134e+02   2.00000000e+00]\n",
      " [  4.00000000e+00   6.90000000e+01   2.45205298e+02   3.00000000e+00]\n",
      " [  6.20000000e+01   6.30000000e+01   2.45214634e+02   4.00000000e+00]\n",
      " [  2.70000000e+01   3.00000000e+01   2.49701043e+02   2.00000000e+00]\n",
      " [  3.30000000e+01   7.40000000e+01   2.55667966e+02   3.00000000e+00]\n",
      " [  4.40000000e+01   7.90000000e+01   2.65234800e+02   3.00000000e+00]\n",
      " [  1.60000000e+01   2.60000000e+01   2.72413952e+02   2.00000000e+00]\n",
      " [  2.30000000e+01   8.20000000e+01   2.76751872e+02   4.00000000e+00]\n",
      " [  3.80000000e+01   6.70000000e+01   2.86565822e+02   3.00000000e+00]\n",
      " [  1.50000000e+01   6.40000000e+01   2.93553225e+02   3.00000000e+00]\n",
      " [  7.10000000e+01   7.30000000e+01   3.03583392e+02   6.00000000e+00]\n",
      " [  7.00000000e+01   7.50000000e+01   3.30325889e+02   4.00000000e+00]\n",
      " [  9.00000000e+00   7.20000000e+01   3.43671487e+02   3.00000000e+00]\n",
      " [  4.10000000e+01   8.60000000e+01   3.58961150e+02   4.00000000e+00]\n",
      " [  6.50000000e+01   8.50000000e+01   3.60725568e+02   5.00000000e+00]\n",
      " [  8.30000000e+01   9.10000000e+01   3.66347082e+02   1.00000000e+01]\n",
      " [  8.70000000e+01   8.80000000e+01   3.85780692e+02   6.00000000e+00]\n",
      " [  5.00000000e+01   8.10000000e+01   4.04922498e+02   3.00000000e+00]\n",
      " [  6.80000000e+01   8.40000000e+01   4.06847963e+02   6.00000000e+00]\n",
      " [  7.60000000e+01   9.70000000e+01   4.14664872e+02   8.00000000e+00]\n",
      " [  7.80000000e+01   9.90000000e+01   4.91280391e+02   9.00000000e+00]\n",
      " [  8.90000000e+01   9.80000000e+01   5.35382179e+02   6.00000000e+00]\n",
      " [  5.60000000e+01   9.30000000e+01   5.38754510e+02   4.00000000e+00]\n",
      " [  8.00000000e+01   1.00000000e+02   5.80495167e+02   1.20000000e+01]\n",
      " [  9.50000000e+01   9.60000000e+01   6.39877791e+02   1.50000000e+01]\n",
      " [  9.20000000e+01   1.01000000e+02   6.48696670e+02   1.30000000e+01]\n",
      " [  9.40000000e+01   1.04000000e+02   6.87083807e+02   1.60000000e+01]\n",
      " [  1.02000000e+02   1.03000000e+02   7.56569514e+02   1.00000000e+01]\n",
      " [  9.00000000e+01   1.06000000e+02   8.42284470e+02   1.60000000e+01]\n",
      " [  1.05000000e+02   1.07000000e+02   9.08282989e+02   3.10000000e+01]\n",
      " [  1.08000000e+02   1.09000000e+02   1.13892544e+03   2.60000000e+01]\n",
      " [  1.10000000e+02   1.11000000e+02   1.89964794e+03   5.70000000e+01]]\n"
     ]
    }
   ],
   "source": [
    "print(complete_linkage)"
   ]
  },
  {
   "cell_type": "code",
   "execution_count": null,
   "metadata": {
    "collapsed": true
   },
   "outputs": [],
   "source": []
  }
 ],
 "metadata": {
  "kernelspec": {
   "display_name": "Python 2",
   "language": "python",
   "name": "python2"
  },
  "language_info": {
   "codemirror_mode": {
    "name": "ipython",
    "version": 2
   },
   "file_extension": ".py",
   "mimetype": "text/x-python",
   "name": "python",
   "nbconvert_exporter": "python",
   "pygments_lexer": "ipython2",
   "version": "2.7.13"
  }
 },
 "nbformat": 4,
 "nbformat_minor": 2
}
