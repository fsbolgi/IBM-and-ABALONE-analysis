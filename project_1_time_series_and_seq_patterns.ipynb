{
 "cells": [
  {
   "cell_type": "code",
   "execution_count": null,
   "metadata": {},
   "outputs": [],
   "source": [
    "import numpy as np\n",
    "import pandas as pd\n",
    "%pylab inline\n",
    "from pylab import rcParams\n",
    "rcParams['figure.figsize'] = 16,4"
   ]
  },
  {
   "cell_type": "markdown",
   "metadata": {},
   "source": [
    "## Dataset: IBM stock values from 1962 to 2018"
   ]
  },
  {
   "cell_type": "code",
   "execution_count": null,
   "metadata": {},
   "outputs": [],
   "source": [
    "series = pd.Series.from_csv('ibm_daily_1962-2018.csv', sep='\\t',header=0)"
   ]
  },
  {
   "cell_type": "code",
   "execution_count": null,
   "metadata": {},
   "outputs": [],
   "source": [
    "plot(series)"
   ]
  },
  {
   "cell_type": "markdown",
   "metadata": {},
   "source": [
    "## Split the time series into years (57 series)\n",
    "and plot normalized time series"
   ]
  },
  {
   "cell_type": "code",
   "execution_count": null,
   "metadata": {},
   "outputs": [],
   "source": [
    "from pandas import TimeGrouper\n",
    "from pandas import DataFrame\n",
    "groups = series.groupby(TimeGrouper('Y'))\n",
    "\n",
    "mm = DataFrame()\n",
    "for name, group in groups:\n",
    "    norm_values = (group.values - mean(group.values)) / std(group.values)\n",
    "    # Padding performed to have series of same length -- important only for plotting the matrix\n",
    "    pad_values = np.pad(norm_values,(0,365-len(norm_values)),'constant',constant_values=-3)\n",
    "    mm[\"%s\" % (name.year)] = pad_values\n",
    "matshow(mm.T, interpolation=None, aspect='auto')"
   ]
  },
  {
   "cell_type": "markdown",
   "metadata": {},
   "source": [
    "## Split the time series into months (676 series)\n",
    "and plot normalized time series"
   ]
  },
  {
   "cell_type": "code",
   "execution_count": null,
   "metadata": {},
   "outputs": [],
   "source": [
    "from pandas import TimeGrouper\n",
    "from pandas import DataFrame\n",
    "groups = series.groupby(TimeGrouper('M'))\n",
    "\n",
    "mm = DataFrame()\n",
    "for name, group in groups:\n",
    "    norm_values = (group.values - mean(group.values)) / std(group.values)\n",
    "    # Padding performed to have series of same length -- important only for plotting the matrix\n",
    "    pad_values = np.pad(norm_values,(0,31-len(norm_values)),'constant',constant_values=-3)\n",
    "    mm[\"%s-%s\" % (name.year,name.month)] = pad_values\n",
    "matshow(mm.T, interpolation=None, aspect='auto')"
   ]
  }
 ],
 "metadata": {
  "kernelspec": {
   "display_name": "Python 2",
   "language": "python",
   "name": "python2"
  },
  "language_info": {
   "codemirror_mode": {
    "name": "ipython",
    "version": 2
   },
   "file_extension": ".py",
   "mimetype": "text/x-python",
   "name": "python",
   "nbconvert_exporter": "python",
   "pygments_lexer": "ipython2",
   "version": "2.7.12"
  }
 },
 "nbformat": 4,
 "nbformat_minor": 2
}
